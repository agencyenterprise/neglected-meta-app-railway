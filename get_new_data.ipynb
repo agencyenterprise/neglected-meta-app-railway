{
 "cells": [
  {
   "cell_type": "code",
   "execution_count": 13,
   "metadata": {},
   "outputs": [],
   "source": [
    "import requests\n",
    "import urllib.request\n",
    "from bs4 import BeautifulSoup\n",
    "import pandas as pd\n",
    "import os\n",
    "import re\n",
    "import tqdm\n",
    "import asyncio\n",
    "import json"
   ]
  },
  {
   "cell_type": "code",
   "execution_count": 97,
   "metadata": {},
   "outputs": [],
   "source": [
    "old_posts = pd.read_parquet(\"app_files/lw_data.parquet\")"
   ]
  },
  {
   "cell_type": "code",
   "execution_count": 98,
   "metadata": {},
   "outputs": [
    {
     "data": {
      "text/plain": [
       "Index(['_id', 'Unnamed: 0', 'title', 'authors', 'score', 'karma', 'body',\n",
       "       'postedAt', 'tags', 'commentCount', 'upvoteCount', 'url',\n",
       "       'contains_wanted', 'skip_authors', 'year', 'month', 'quarter',\n",
       "       'alignment_forum', 'ids', 'links', 'references', 'pingback_posts'],\n",
       "      dtype='object')"
      ]
     },
     "execution_count": 98,
     "metadata": {},
     "output_type": "execute_result"
    }
   ],
   "source": [
    "old_posts.columns"
   ]
  },
  {
   "cell_type": "code",
   "execution_count": 99,
   "metadata": {},
   "outputs": [],
   "source": [
    "folder_path = \"data/posts/\"\n",
    "posts = pd.DataFrame()\n",
    "for file in os.listdir(folder_path):\n",
    "    with open(folder_path + file) as f:\n",
    "        data = json.load(f)\n",
    "        posts = pd.concat([posts, pd.DataFrame(data)])\n",
    "posts = posts.drop_duplicates(subset=['_id'])"
   ]
  },
  {
   "cell_type": "code",
   "execution_count": 20,
   "metadata": {},
   "outputs": [],
   "source": [
    "url = \"https://www.lesswrong.com/graphql\"\n",
    "default_headers = {\n",
    "  'accept': '*/*',\n",
    "  'accept-language': 'en-US,en;q=0.9',\n",
    "  'content-type': 'application/json',\n",
    "  'user-agent': 'AE Studio-Neglected Means Researcher tristan.tran@ae.studio',\n",
    "}"
   ]
  },
  {
   "cell_type": "markdown",
   "metadata": {},
   "source": [
    "# Loading posts from LessWrong"
   ]
  },
  {
   "cell_type": "code",
   "execution_count": 40,
   "metadata": {},
   "outputs": [],
   "source": [
    "def get_posts(start_date:str,\n",
    "              end_date: str,\n",
    "              offset: int):\n",
    "    \"\"\"\n",
    "    Get posts from LessWrong API\n",
    "    :param start_date: str, start date in format'YYYY-MM-DD'\n",
    "    :param end_date: str, end date in format 'YYYY-MM-DD'\n",
    "    :param offset: int, offset for pagination\n",
    "    \"\"\"\n",
    "    post_query = \"\"\"\n",
    "{\n",
    "      posts(input: {\n",
    "        terms: {\n",
    "          limit:100\n",
    "          view:\"timeframe\"\n",
    "          sortedBy:\"magic\"\n",
    "          after:\"%sT07:00:00.000Z\"\n",
    "          before:\"%sT06:59:59.999Z\"\n",
    "          offset: %s\n",
    "          meta: null  # this seems to get both meta and non-meta posts\n",
    "        }\n",
    "      }\n",
    "      ) {\n",
    "        results {\n",
    "          _id\n",
    "          title\n",
    "          slug\n",
    "          pageUrl\n",
    "          postedAt\n",
    "          baseScore\n",
    "          voteCount\n",
    "          score\n",
    "          commentCount\n",
    "          meta\n",
    "          question\n",
    "          url\n",
    "          author\n",
    "          pingbacks\n",
    "          coauthors {\n",
    "            username\n",
    "            _id\n",
    "            slug\n",
    "          }\n",
    "          user {\n",
    "            username\n",
    "            _id\n",
    "            slug\n",
    "          }\n",
    "        }\n",
    "      }\n",
    "    }\n",
    "    \"\"\"%(start_date, end_date, offset)\n",
    "    response = requests.post(url, headers=default_headers, json={'query': post_query})\n",
    "    # TODO implement a backoff strategy for ratelimits\n",
    "    response.raise_for_status()\n",
    "    return response.json()\n",
    "\n",
    "def get_all_posts(start_date, end_date):\n",
    "  \"\"\" Gets all posts from lightcone within_summary_\n",
    "\n",
    "  Args:\n",
    "      start_date (_type_): _description_\n",
    "      end_date (_type_): _description_\n",
    "\n",
    "  Returns:\n",
    "      _type_: _description_\n",
    "  \"\"\"\n",
    "  offset = 0\n",
    "  results = []\n",
    "  while True:\n",
    "      response = get_posts(start_date, end_date, offset)\n",
    "      if not response['data']['posts']['results']:\n",
    "          break\n",
    "      results.extend(response['data']['posts']['results'])\n",
    "      offset += 100\n",
    "  return results"
   ]
  },
  {
   "cell_type": "code",
   "execution_count": 41,
   "metadata": {},
   "outputs": [
    {
     "data": {
      "text/plain": [
       "9"
      ]
     },
     "execution_count": 41,
     "metadata": {},
     "output_type": "execute_result"
    }
   ],
   "source": [
    "r = get_posts(\"2021-01-01\", \"2021-01-02\", 0)\n",
    "len(r[\"data\"][\"posts\"][\"results\"])"
   ]
  },
  {
   "cell_type": "code",
   "execution_count": 42,
   "metadata": {},
   "outputs": [
    {
     "data": {
      "text/plain": [
       "{'data': {'posts': {'results': [{'_id': '6kAtxZyiTdY34JWak',\n",
       "     'title': 'Is Free Will A Myth?',\n",
       "     'slug': 'is-free-will-a-myth',\n",
       "     'pageUrl': 'https://www.lesswrong.com/posts/6kAtxZyiTdY34JWak/is-free-will-a-myth',\n",
       "     'postedAt': '2021-01-01T20:56:50.221Z',\n",
       "     'baseScore': 0,\n",
       "     'voteCount': 0,\n",
       "     'score': 0,\n",
       "     'commentCount': 4,\n",
       "     'meta': False,\n",
       "     'question': False,\n",
       "     'url': None,\n",
       "     'author': None,\n",
       "     'pingbacks': {},\n",
       "     'coauthors': [],\n",
       "     'user': {'username': 'Precious Oluwatobi Emmanuel',\n",
       "      '_id': 'otR3PZ9KMsM2JyCC5',\n",
       "      'slug': 'precious-oluwatobi-emmanuel'}}]}},\n",
       " 'extensions': {'cacheControl': {'version': 1,\n",
       "   'hints': [{'path': ['posts'], 'maxAge': 0},\n",
       "    {'path': ['posts', 'results'], 'maxAge': 0},\n",
       "    {'path': ['posts', 'results', 0, 'coauthors'], 'maxAge': 0},\n",
       "    {'path': ['posts', 'results', 0, 'user'], 'maxAge': 0}]}}}"
      ]
     },
     "execution_count": 42,
     "metadata": {},
     "output_type": "execute_result"
    }
   ],
   "source": [
    "get_posts(\"2021-01-01\", \"2021-01-02\", 8)"
   ]
  },
  {
   "cell_type": "code",
   "execution_count": 43,
   "metadata": {},
   "outputs": [
    {
     "data": {
      "text/plain": [
       "[{'_id': 'rTJrqtDLxAPxiW3sk',\n",
       "  'title': 'My first year in AI alignment',\n",
       "  'slug': 'my-first-year-in-ai-alignment',\n",
       "  'pageUrl': 'https://www.lesswrong.com/posts/rTJrqtDLxAPxiW3sk/my-first-year-in-ai-alignment',\n",
       "  'postedAt': '2023-01-02T01:28:03.470Z',\n",
       "  'baseScore': 61,\n",
       "  'voteCount': 33,\n",
       "  'score': 0.0010619011009112,\n",
       "  'commentCount': 10,\n",
       "  'meta': False,\n",
       "  'question': False,\n",
       "  'url': None,\n",
       "  'author': None,\n",
       "  'pingbacks': {'Posts': ['PRMJCbBhsGgu5A6Ty']},\n",
       "  'coauthors': [],\n",
       "  'user': {'username': 'Alex_Altair',\n",
       "   '_id': '5wu9jG4pm9q6xjZ9R',\n",
       "   'slug': 'alex_altair'}},\n",
       " {'_id': 'dTWevKRiMM4ptcjjg',\n",
       "  'title': 'Would it be good or bad for the US military to get involved in AI risk?',\n",
       "  'slug': 'would-it-be-good-or-bad-for-the-us-military-to-get-involved',\n",
       "  'pageUrl': 'https://www.lesswrong.com/posts/dTWevKRiMM4ptcjjg/would-it-be-good-or-bad-for-the-us-military-to-get-involved',\n",
       "  'postedAt': '2023-01-01T19:02:30.892Z',\n",
       "  'baseScore': 50,\n",
       "  'voteCount': 23,\n",
       "  'score': 0.0008938161772675812,\n",
       "  'commentCount': 12,\n",
       "  'meta': False,\n",
       "  'question': True,\n",
       "  'url': None,\n",
       "  'author': None,\n",
       "  'pingbacks': {},\n",
       "  'coauthors': [],\n",
       "  'user': {'username': 'grant-demaree',\n",
       "   '_id': 'QdiZckQT3JMQwdajo',\n",
       "   'slug': 'grant-demaree'}},\n",
       " {'_id': 'E9EevrzBcDMap6dbs',\n",
       "  'title': 'The Thingness of Things\\n',\n",
       "  'slug': 'the-thingness-of-things',\n",
       "  'pageUrl': 'https://www.lesswrong.com/posts/E9EevrzBcDMap6dbs/the-thingness-of-things',\n",
       "  'postedAt': '2023-01-01T22:19:08.026Z',\n",
       "  'baseScore': 46,\n",
       "  'voteCount': 19,\n",
       "  'score': 0.0008344281231984496,\n",
       "  'commentCount': 35,\n",
       "  'meta': False,\n",
       "  'question': False,\n",
       "  'url': None,\n",
       "  'author': None,\n",
       "  'pingbacks': {},\n",
       "  'coauthors': [],\n",
       "  'user': {'username': 'TsviBT',\n",
       "   '_id': 'LtHeYhWmaud6YNA3m',\n",
       "   'slug': 'tsvibt'}},\n",
       " {'_id': 'ihwD8H8bCF8ZJ6zjz',\n",
       "  'title': 'Sail Over Mountains of ICE...',\n",
       "  'slug': 'sail-over-mountains-of-ice',\n",
       "  'pageUrl': 'https://www.lesswrong.com/posts/ihwD8H8bCF8ZJ6zjz/sail-over-mountains-of-ice',\n",
       "  'postedAt': '2023-01-02T00:27:31.340Z',\n",
       "  'baseScore': 26,\n",
       "  'voteCount': 17,\n",
       "  'score': 0.0005412428290583193,\n",
       "  'commentCount': 51,\n",
       "  'meta': False,\n",
       "  'question': False,\n",
       "  'url': None,\n",
       "  'author': None,\n",
       "  'pingbacks': {},\n",
       "  'coauthors': [],\n",
       "  'user': {'username': 'AnthonyRepetto',\n",
       "   '_id': 'tQvXqWiE7zSa8bxt9',\n",
       "   'slug': 'anthonyrepetto'}},\n",
       " {'_id': 'QsZ3ycfRYs2ps5sNA',\n",
       "  'title': 'A Löbian argument pattern for implicit reasoning in natural language: Löbian party invitations',\n",
       "  'slug': 'a-loebian-argument-pattern-for-implicit-reasoning-in-natural',\n",
       "  'pageUrl': 'https://www.lesswrong.com/posts/QsZ3ycfRYs2ps5sNA/a-loebian-argument-pattern-for-implicit-reasoning-in-natural',\n",
       "  'postedAt': '2023-01-01T17:39:59.643Z',\n",
       "  'baseScore': 23,\n",
       "  'voteCount': 13,\n",
       "  'score': 0.000501197122503072,\n",
       "  'commentCount': 8,\n",
       "  'meta': False,\n",
       "  'question': False,\n",
       "  'url': None,\n",
       "  'author': None,\n",
       "  'pingbacks': {'Posts': ['AkGvmJ6WE5sXjuwnC', 'rrpnEDpLPxsmmsLzs']},\n",
       "  'coauthors': [],\n",
       "  'user': {'username': 'Andrew_Critch',\n",
       "   '_id': 'f7Mag7bDZKv59Bsaw',\n",
       "   'slug': 'andrew_critch'}},\n",
       " {'_id': 'iJy335ve4NuzzCyBF',\n",
       "  'title': \"Better New Year's Goals through Aligning the Elephant and the Rider\",\n",
       "  'slug': 'better-new-year-s-goals-through-aligning-the-elephant-and',\n",
       "  'pageUrl': 'https://www.lesswrong.com/posts/iJy335ve4NuzzCyBF/better-new-year-s-goals-through-aligning-the-elephant-and',\n",
       "  'postedAt': '2023-01-01T17:54:48.386Z',\n",
       "  'baseScore': 20,\n",
       "  'voteCount': 11,\n",
       "  'score': 0.00045161580783315003,\n",
       "  'commentCount': 0,\n",
       "  'meta': False,\n",
       "  'question': False,\n",
       "  'url': 'https://guildoftherose.org/articles/aligning-the-elephant-and-rider',\n",
       "  'author': None,\n",
       "  'pingbacks': {'Posts': ['du395YvCnQXBPSJax',\n",
       "    'EFQ3F6kmt4WHXRqik',\n",
       "    'RWo4LwFzpHNQCTcYt']},\n",
       "  'coauthors': [],\n",
       "  'user': {'username': 'moridinamael',\n",
       "   '_id': 'sWA9eDCM9AgFaZho8',\n",
       "   'slug': 'moridinamael'}},\n",
       " {'_id': 'hjL4KnPKtoa3JGtPy',\n",
       "  'title': \"Summary of 80k's AI problem profile\",\n",
       "  'slug': 'summary-of-80k-s-ai-problem-profile',\n",
       "  'pageUrl': 'https://www.lesswrong.com/posts/hjL4KnPKtoa3JGtPy/summary-of-80k-s-ai-problem-profile',\n",
       "  'postedAt': '2023-01-01T07:30:22.177Z',\n",
       "  'baseScore': 7,\n",
       "  'voteCount': 4,\n",
       "  'score': 0.0002621956809889525,\n",
       "  'commentCount': 0,\n",
       "  'meta': False,\n",
       "  'question': False,\n",
       "  'url': 'https://forum.effectivealtruism.org/posts/btFBFdYEn2PbuwHwt/summary-of-80k-s-ai-problem-profile',\n",
       "  'author': None,\n",
       "  'pingbacks': {'Posts': ['AfH2oPHCApdKicM4m', 'y2CMx3DAJ86HGrjue']},\n",
       "  'coauthors': [],\n",
       "  'user': {'username': 'jskatt',\n",
       "   '_id': 'h3ZLNJ4wB9ocmRpRB',\n",
       "   'slug': 'jakubk'}},\n",
       " {'_id': 'fcZjso8QEqhQfZHhT',\n",
       "  'title': 'How can total world index fund growth outpace money supply growth over the long term?',\n",
       "  'slug': 'how-can-total-world-index-fund-growth-outpace-money-supply',\n",
       "  'pageUrl': 'https://www.lesswrong.com/posts/fcZjso8QEqhQfZHhT/how-can-total-world-index-fund-growth-outpace-money-supply',\n",
       "  'postedAt': '2023-01-02T05:33:40.620Z',\n",
       "  'baseScore': 4,\n",
       "  'voteCount': 2,\n",
       "  'score': 0.00021706978441216052,\n",
       "  'commentCount': 7,\n",
       "  'meta': False,\n",
       "  'question': True,\n",
       "  'url': None,\n",
       "  'author': None,\n",
       "  'pingbacks': {},\n",
       "  'coauthors': [],\n",
       "  'user': {'username': 'pando', '_id': 'vZWeoogBR3JSFbBMg', 'slug': 'pando'}},\n",
       " {'_id': '4QgHqN2fHvqAwwSRg',\n",
       "  'title': 'Thoughts On Expanding the AI Safety Community: Benefits and Challenges of Outreach to Non-Technical Professionals',\n",
       "  'slug': 'thoughts-on-expanding-the-ai-safety-community-benefits-and',\n",
       "  'pageUrl': 'https://www.lesswrong.com/posts/4QgHqN2fHvqAwwSRg/thoughts-on-expanding-the-ai-safety-community-benefits-and',\n",
       "  'postedAt': '2023-01-01T19:21:33.010Z',\n",
       "  'baseScore': 4,\n",
       "  'voteCount': 6,\n",
       "  'score': 0.00021152447152417153,\n",
       "  'commentCount': 4,\n",
       "  'meta': False,\n",
       "  'question': False,\n",
       "  'url': None,\n",
       "  'author': None,\n",
       "  'pingbacks': {},\n",
       "  'coauthors': [],\n",
       "  'user': {'username': 'yashvardhan-sharma',\n",
       "   '_id': 'Jm9PPChwTMMcyhkzs',\n",
       "   'slug': 'yashvardhan-sharma'}},\n",
       " {'_id': 'MraxHEZSprEL9j28y',\n",
       "  'title': 'woke offline, anti-woke online',\n",
       "  'slug': 'woke-offline-anti-woke-online',\n",
       "  'pageUrl': 'https://www.lesswrong.com/posts/MraxHEZSprEL9j28y/woke-offline-anti-woke-online',\n",
       "  'postedAt': '2023-01-01T08:24:39.748Z',\n",
       "  'baseScore': 13,\n",
       "  'voteCount': 15,\n",
       "  'score': 0.00020271138055250049,\n",
       "  'commentCount': 12,\n",
       "  'meta': False,\n",
       "  'question': False,\n",
       "  'url': None,\n",
       "  'author': None,\n",
       "  'pingbacks': {},\n",
       "  'coauthors': [],\n",
       "  'user': {'username': 'yair-halberstadt',\n",
       "   '_id': 'nLQrcb2wbHaSvXJwq',\n",
       "   'slug': 'yair-halberstadt'}},\n",
       " {'_id': 'pQFpkwiQNjQzjGzCn',\n",
       "  'title': 'Alignment, Anger, and Love: Preparing for the Emergence of Superintelligent AI',\n",
       "  'slug': 'alignment-anger-and-love-preparing-for-the-emergence-of',\n",
       "  'pageUrl': 'https://www.lesswrong.com/posts/pQFpkwiQNjQzjGzCn/alignment-anger-and-love-preparing-for-the-emergence-of',\n",
       "  'postedAt': '2023-01-02T06:16:53.686Z',\n",
       "  'baseScore': 2,\n",
       "  'voteCount': 2,\n",
       "  'score': 0.00018017322872765362,\n",
       "  'commentCount': 3,\n",
       "  'meta': False,\n",
       "  'question': False,\n",
       "  'url': None,\n",
       "  'author': None,\n",
       "  'pingbacks': {},\n",
       "  'coauthors': [],\n",
       "  'user': {'username': 'tavurth',\n",
       "   '_id': 'CNaquBWz2KtfAyYLm',\n",
       "   'slug': 'tavurth'}},\n",
       " {'_id': 'MzwubmRjyXY9F9Myz',\n",
       "  'title': 'Fun math facts about 2023',\n",
       "  'slug': 'fun-math-facts-about-2023',\n",
       "  'pageUrl': 'https://www.lesswrong.com/posts/MzwubmRjyXY9F9Myz/fun-math-facts-about-2023',\n",
       "  'postedAt': '2023-01-01T23:38:22.165Z',\n",
       "  'baseScore': 9,\n",
       "  'voteCount': 4,\n",
       "  'score': 0.00014258100418373942,\n",
       "  'commentCount': 6,\n",
       "  'meta': False,\n",
       "  'question': False,\n",
       "  'url': None,\n",
       "  'author': None,\n",
       "  'pingbacks': {},\n",
       "  'coauthors': [],\n",
       "  'user': {'username': 'adam-scherlis',\n",
       "   '_id': 'vkJnzkZKmPszTLfKc',\n",
       "   'slug': 'adam-scherlis'}}]"
      ]
     },
     "execution_count": 43,
     "metadata": {},
     "output_type": "execute_result"
    }
   ],
   "source": [
    "# loop that gets posts for a date range until the offset is empty\n",
    "start_date = \"2023-01-01\"\n",
    "end_date = \"2023-01-02\"\n",
    "get_all_posts(start_date, end_date)\n",
    "# this should get all posts and pingbacks"
   ]
  },
  {
   "cell_type": "markdown",
   "metadata": {},
   "source": [
    "# Add Pingback if missing"
   ]
  },
  {
   "cell_type": "code",
   "execution_count": 70,
   "metadata": {},
   "outputs": [],
   "source": [
    "# we can use this to add pingbacks to the posts. if they don't have them\n",
    "from requests.exceptions import HTTPError\n",
    "def get_all_pingback(post_id):\n",
    "    \"\"\"\n",
    "    Worst case scenario, lightcone sends us files. They sometimes miss pingbacks or other columns\n",
    "    This function gets the pingbacks for a post. If it fails, it returns an empty list.\n",
    "    \n",
    "    \"\"\"\n",
    "    pingback_query =\"\"\"{\n",
    "    posts(input: {terms: {view: \"pingbackPosts\", postId: \"%s\", limit: 15, offset: 0}}) {\n",
    "        results {\n",
    "        _id\n",
    "        extendedScore\n",
    "        baseScore\n",
    "        score\n",
    "        voteCount\n",
    "        userId\n",
    "        reviewVotesHighKarma\n",
    "        commentCount\n",
    "        htmlBody\n",
    "        }\n",
    "    }\n",
    "    }\"\"\"%post_id\n",
    "    response = requests.post(url, headers=default_headers, json={'query': pingback_query})\n",
    "    response.raise_for_status()\n",
    "    return response.json()[\"data\"][\"posts\"][\"results\"]\n",
    "\n",
    "def get_pingback_ids(post_id):\n",
    "    try:\n",
    "        pingbacks = get_all_pingback(post_id)\n",
    "        return [pingback[\"_id\"] for pingback in pingbacks]\n",
    "    except HTTPError as e:\n",
    "        print(post_id, \"returns http error\")\n",
    "        print(e)\n",
    "        return []\n",
    "    except:\n",
    "        print(post_id, \"returns unknown error\")\n",
    "        return []\n",
    "def get_refs_from_pingback(df):\n",
    "    ids, pingbacks = zip(*df[[\"_id\",\"pingback\"]].values)\n",
    "    refs = {id: [] for id in ids}\n",
    "    for id, pingback in zip(ids, pingbacks):\n",
    "        for pb in pingback:\n",
    "            if pb in refs:\n",
    "                refs[pb].append(id)\n",
    "\n",
    "    df[\"refs\"] = df[\"_id\"].apply(lambda x: refs[x])\n",
    "    return df"
   ]
  },
  {
   "cell_type": "code",
   "execution_count": 89,
   "metadata": {},
   "outputs": [],
   "source": [
    "posts.to_parquet(\"data/posts.parquet\")"
   ]
  },
  {
   "cell_type": "code",
   "execution_count": 12,
   "metadata": {},
   "outputs": [],
   "source": []
  },
  {
   "cell_type": "markdown",
   "metadata": {},
   "source": [
    "# Load comments"
   ]
  },
  {
   "cell_type": "code",
   "execution_count": 76,
   "metadata": {},
   "outputs": [],
   "source": [
    "comments = pd.read_parquet(\"app_files/lw_comments.parquet\")"
   ]
  },
  {
   "cell_type": "code",
   "execution_count": 77,
   "metadata": {},
   "outputs": [
    {
     "data": {
      "text/plain": [
       "Index(['htmlBody', '_id', 'postId', 'parentCommentId', 'answer', 'postedAt',\n",
       "       'author_id', 'username'],\n",
       "      dtype='object')"
      ]
     },
     "execution_count": 77,
     "metadata": {},
     "output_type": "execute_result"
    }
   ],
   "source": [
    "comments.columns"
   ]
  },
  {
   "cell_type": "code",
   "execution_count": 14,
   "metadata": {},
   "outputs": [
    {
     "data": {
      "text/plain": [
       "Index(['_id', 'user', 'htmlBody', 'postId', 'parentCommentId', 'baseScore',\n",
       "       'answer', 'postedAt'],\n",
       "      dtype='object')"
      ]
     },
     "execution_count": 14,
     "metadata": {},
     "output_type": "execute_result"
    }
   ],
   "source": [
    "folder_path = \"data/comments/\"\n",
    "comments = pd.DataFrame()\n",
    "for file in os.listdir(folder_path):\n",
    "    with open(folder_path + file) as f:\n",
    "        data = json.load(f)\n",
    "        comments = pd.concat([comments, pd.DataFrame(data)])\n",
    "comments = comments.drop_duplicates(subset=['_id'])\n",
    "comments.columns"
   ]
  },
  {
   "cell_type": "code",
   "execution_count": 58,
   "metadata": {},
   "outputs": [
    {
     "name": "stdout",
     "output_type": "stream",
     "text": [
      "{'data': {'comments': {'results': [{'_id': 'PMtnsnkd38QNwherK', 'htmlBody': '<p>Useful post. I can expand on one point and make a minor correction. Single Particle Cryo-EM is indeed a new(ish) powerful method of protein structure elucidation starting to make an impact in drug design. It is especially useful when a protein cannot easily be crystallised to allow more straightforward X-Ray structure determination. This is usually the case with transmembrane proteins for example. However it is actually best if the protein molecules are completely unaligned in any preferred direction as the simplest application of the refinement software assumes a perfectly random 3D orientation of the many thousands of protein copies imaged on the grid. In practice this is not so easy to achieve and corrections for unwanted preferred orientation need to be made.</p>', 'postId': 'xgrvmaLFvkFr4hKjz', 'answer': False, 'postedAt': '2024-05-05T17:42:39.534Z', 'parentCommentId': None, 'user': {'_id': 'savsErdiFTJdawvjE', 'slug': 'ponder-stibbons', 'username': 'Ponder Stibbons', 'displayName': 'Ponder Stibbons', 'karma': 151}}, {'_id': 'hFbWBtTWYkAsJvLia', 'htmlBody': '<p>Not an expert here, but it seems to me that if you can make a virus that preferentially infects cancer cells you might as well make the virus kill the infected cancer cells directly.</p>\\n', 'postId': 'xgrvmaLFvkFr4hKjz', 'answer': False, 'postedAt': '2024-05-15T09:29:25.868Z', 'parentCommentId': 'uMXEBnqR3gvjQuxip', 'user': {'_id': 'Q2oaNonArzibx5cQN', 'slug': 'cronodas', 'username': 'CronoDAS', 'displayName': 'CronoDAS', 'karma': 16225}}, {'_id': 'HAZHu9mHPhbhp42NT', 'htmlBody': \"<p>There are a few issues with that.</p>\\n<ol>\\n<li>\\n<p>The cost would probably be a significant fraction of the development of a new monoclonal antibody treatment, making this currently probably limited to billionaires.</p>\\n</li>\\n<li>\\n<p>Personalized drug development on that scale isn't something that can simply be purchased, and if billionaires tried, governments would probably block them, because voters would consider that unfair, and because cancer researchers can't simply be increased in proportion to budgets. There are only so many people with the relevant skills and inclinations.</p>\\n</li>\\n<li>\\n<p>Better methods for development wouldn't just reduce costs, but would also reduce time taken. There would need to be a billionaire, diagnosed with cancer without a good treatment, who would clearly die from it, but not for a couple years.</p>\\n</li>\\n<li>\\n<p>Better methods and understanding wouldn't just reduce costs and time, they'd also reduce risks. Targeting a receptor that's actually important normally but wasn't fully understood could kill someone before the cancer.</p>\\n</li>\\n</ol>\\n\", 'postId': 'xgrvmaLFvkFr4hKjz', 'answer': False, 'postedAt': '2024-05-06T15:54:42.249Z', 'parentCommentId': 'dpJAYgFzXWqQmiS8D', 'user': {'_id': 'xYpk75i7Hnn6wc5it', 'slug': 'bhauth', 'username': 'bhauth', 'displayName': 'bhauth', 'karma': 3134}}, {'_id': 'dpJAYgFzXWqQmiS8D', 'htmlBody': \"<p>When you say it's not yet practical, are we missing some key steps, or could it be done at high enough cost with current technology but can't scale?</p>\\n<p>I imagine a startup which cured rich people's cancers on a case by case basis would have a lot of customers, which would help drive prices down as the technology improved.</p>\\n\", 'postId': 'xgrvmaLFvkFr4hKjz', 'answer': False, 'postedAt': '2024-05-06T14:55:15.236Z', 'parentCommentId': None, 'user': {'_id': 'nLQrcb2wbHaSvXJwq', 'slug': 'yair-halberstadt', 'username': 'yair-halberstadt', 'displayName': 'Yair Halberstadt', 'karma': 2387}}, {'_id': 'hkyhYACSHLayLPWvN', 'htmlBody': '<p>The <a href=\"https://www.lesswrong.com/bestoflesswrong\">LessWrong Review</a> runs every year to select the posts that have most stood the test of time. This post is not yet eligible for review, but will be at the end of 2025. The top fifty or so posts are featured prominently on the site throughout the year.</p><p>Hopefully, the review is better than karma at judging enduring value. If we have accurate prediction markets on the review results, maybe we can have better incentives on LessWrong today. <a href=\"https://manifold.markets/LessWrong/will-introduction-to-cancer-vaccine\">Will this post make the top fifty?</a></p>', 'postId': 'xgrvmaLFvkFr4hKjz', 'answer': False, 'postedAt': '2024-05-17T14:47:22.659Z', 'parentCommentId': None, 'user': {'_id': 'tBchiz3RM7rPwujrJ', 'slug': 'review-bot', 'username': 'Review Bot', 'displayName': 'Review Bot', 'karma': -17}}, {'_id': 'gpeqbToHTMJp5uBeP', 'htmlBody': \"<p>Promoted to curated: Cancer vaccines are cool. I didn't quite realize how cool they were before this post, and this post is a quite accessible intro into them.&nbsp;</p>\", 'postId': 'xgrvmaLFvkFr4hKjz', 'answer': False, 'postedAt': '2024-05-15T04:41:31.698Z', 'parentCommentId': None, 'user': {'_id': 'XtphY3uYHwruKqDyG', 'slug': 'habryka4', 'username': 'habryka4', 'displayName': 'habryka', 'karma': 36963}}, {'_id': 'hBsrCJ63HHknNwHEh', 'htmlBody': '<blockquote>\\n<p>ctDNA can in theory be used to sequence the cancer.</p>\\n</blockquote>\\n<p>I don\\'t think that\\'s a good idea. It\\'s not the same and would be hard to separate from other cfDNA.</p>\\n<blockquote>\\n<p>Moderna has just put an individualized cancer vaccine into a phase III\\nDo you think that trial is a bad idea?</p>\\n</blockquote>\\n<p>What Moderna is doing is sequencing cancer cells and healthy cells, and using some algorithm to guess what mRNA vaccine would work. I think they\\'re not quite there yet: the hazard ratio with a checkpoint inhibitor isn\\'t much better than the checkpoint inhibitor alone, and I always discount the reported performance in small trials a bit. (And looking at the stock price, Wall Street <a href=\"https://www.cnbc.com/2023/04/17/moderna-melanoma-treatment-data.html\">seems to agree</a>.) Note also that it\\'s specifically for certain types of melanoma, and comes after several failed cancer mRNA vaccine trials. That limitation to melanoma types indicates to me that their algorithm and its personalization are probably rather limited.</p>\\n<p>It\\'s not that I\\'m opposed to Moderna doing their trial per se, but I am a bit concerned that their patents could ultimately result in a net reduction in progress.</p>\\n', 'postId': 'xgrvmaLFvkFr4hKjz', 'answer': False, 'postedAt': '2024-05-07T02:34:23.142Z', 'parentCommentId': 'niKCg4RgTPmTuy3xw', 'user': {'_id': 'xYpk75i7Hnn6wc5it', 'slug': 'bhauth', 'username': 'bhauth', 'displayName': 'bhauth', 'karma': 3134}}, {'_id': 'niKCg4RgTPmTuy3xw', 'htmlBody': '<blockquote><p>The cancer must develop neoantigens that are sufficiently distinct from human surface proteins and consistent across the cancer.</p></blockquote><p>This is not necessarily true. There are some proteins that get produced by embryos and not by adult humans. Sometimes cancer mutates in a way that those proteins get produced by cancer cells.</p><p>While the vaccines that target a single of those embryo proteins did not do enough in clinical trials, I don\\'t see a reason why we should completely ignore those proteins.&nbsp;</p><blockquote><p>Cancer cells must be isolated and have their surface proteins characterized.</p></blockquote><p>Given that cancer cells engage in necrososis much more than regular cells you don\\'t need to isolate cancer cells to get the DNA of cancer. ctDNA can in theory be used to sequence the cancer. Using ctDNA might even be better because it gives you a better idea of whether a mutation is present in most of the cancer cells or only the section from which you removed cells.&nbsp;</p><blockquote><p>Individualized cancer vaccines are not yet practical</p></blockquote><p><a href=\"https://www.fiercebiotech.com/biotech/bristol-myers-cmo-still-skeptical-about-cancer-vaccine-biontech-moderna-march-ahead-i-o\">Moderna </a>has just put an individualized cancer vaccine into a phase III trial after positive results from a phase 2b trial:</p><blockquote><p>Hirawat was referring to Moderna and Merck’s December announcement of positive results from a 157-patient phase 2b trial dubbed KEYNOTE-942. The pair said a combination of their personalized mRNA cancer vaccine, coded mRNA-4157 or V940, and the PD-1 inhibitor Keytruda slashed the risk of tumor recurrence or death by 44% compared with Keytruda alone when used as an adjuvant therapy in stage 3/4 melanoma following complete surgical resection.</p></blockquote><p>Do you think that trial is a bad idea?</p>', 'postId': 'xgrvmaLFvkFr4hKjz', 'answer': False, 'postedAt': '2024-05-06T18:59:27.540Z', 'parentCommentId': None, 'user': {'_id': 'vbDMpDA5A35329Ju5', 'slug': 'christiankl', 'username': 'ChristianKl', 'displayName': 'ChristianKl', 'karma': 34574}}, {'_id': 'AKK2GS3WMADvnCq7j', 'htmlBody': '<p>Interestingly, many cancer \"neoantigens\" (for example, MAGEB1) are also expressed in meiotic cells in the testis. This is because they\\'re usually epigenetically suppressed in healthy tissues, but cancer cells have messed up epigenomes. See: <a href=\"https://en.wikipedia.org/wiki/Cancer/testis_antigens\">https://en.wikipedia.org/wiki/Cancer/testis_antigens</a></p><p>Also, I would disagree that synthesizing long polypeptides is easier than synthesizing long mRNAs. With polypeptides you have 20 amino acids to work with, and some require special treatment (protecting groups on sidechains). With mRNAs the chemistry is much simpler.</p>', 'postId': 'xgrvmaLFvkFr4hKjz', 'answer': False, 'postedAt': '2024-05-06T16:40:18.390Z', 'parentCommentId': None, 'user': {'_id': 'm5kfkueKifesRrPdY', 'slug': 'metacelsus', 'username': 'Metacelsus', 'displayName': 'Metacelsus', 'karma': 1050}}, {'_id': 'TR9JfqGK6pZsG48oq', 'htmlBody': \"<p>Makes sense thanks!</p>\\n<p>I imagine a startup of this ilk could be based in Prospera, which wouldn't be a problem for the wealthy few to travel there for personalised treatment.</p>\\n<p>I also imagine that with a lighter regulatory regime, no need to scale up production, and no need for lengthy trials, developing a monoclonal antibody would be much quicker and cheaper. Consider how quickly COVID vaccines were found compared to when they were ready for use.</p>\\n<p>The other hurdles sound significant though.</p>\\n\", 'postId': 'xgrvmaLFvkFr4hKjz', 'answer': False, 'postedAt': '2024-05-06T16:21:26.287Z', 'parentCommentId': 'HAZHu9mHPhbhp42NT', 'user': {'_id': 'nLQrcb2wbHaSvXJwq', 'slug': 'yair-halberstadt', 'username': 'yair-halberstadt', 'displayName': 'Yair Halberstadt', 'karma': 2387}}, {'_id': 'raJkZwBxTPLrXeGbP', 'htmlBody': \"<p>That's true; I misremembered that part when I wrote it. I'll just remove that.</p>\\n\", 'postId': 'xgrvmaLFvkFr4hKjz', 'answer': False, 'postedAt': '2024-05-06T02:21:22.195Z', 'parentCommentId': 'PMtnsnkd38QNwherK', 'user': {'_id': 'xYpk75i7Hnn6wc5it', 'slug': 'bhauth', 'username': 'bhauth', 'displayName': 'bhauth', 'karma': 3134}}, {'_id': 'zLX2YNEzanQWrFPXJ', 'htmlBody': \"<p>That new Amgen drug targets a human protein that's mostly only used during embryonic development. I think it's expressed by most cancer cells in maybe around 0.2% of cancer cases. In many of those cases, some of the cancer cells will stop producing it.</p>\\n<p>Most potential targets have worse side effects and/or are less common.</p>\\n\", 'postId': 'xgrvmaLFvkFr4hKjz', 'answer': False, 'postedAt': '2024-05-17T02:55:39.157Z', 'parentCommentId': 'CXfnGb8ex5txKFT5r', 'user': {'_id': 'xYpk75i7Hnn6wc5it', 'slug': 'bhauth', 'username': 'bhauth', 'displayName': 'bhauth', 'karma': 3134}}, {'_id': 'CXfnGb8ex5txKFT5r', 'htmlBody': '<p>Following up on the current market state discussion related to Moderna, any thoughts on the Amgen treatment that FDA just approved today? Seems to be a much more targeted treatment but the general approach of targeting specific mutations seems to suggest a \"family of drugs\" that targets a number of different mutations. If that can cover mutations the cause 90% of cancers seems like it would be a huge win. (But I\\'m not sure if things work that way!)</p>', 'postId': 'xgrvmaLFvkFr4hKjz', 'answer': False, 'postedAt': '2024-05-16T21:06:13.212Z', 'parentCommentId': 'hBsrCJ63HHknNwHEh', 'user': {'_id': 'hWhWZzvjjZqYyAgEE', 'slug': 'jmh', 'username': 'jmh', 'displayName': 'jmh', 'karma': 1421}}, {'_id': 'ezomCpCAAnJMjQvTC', 'htmlBody': '<p>Fair, depends how hard it is to do that though, I assumed inserting a target gene would be easier than triggering death in a cell that has probably hopelessly broken its apoptosis mechanism.</p>\\n', 'postId': 'xgrvmaLFvkFr4hKjz', 'answer': False, 'postedAt': '2024-05-15T12:54:40.056Z', 'parentCommentId': 'hFbWBtTWYkAsJvLia', 'user': {'_id': '75YZ666ipe3weoJaS', 'slug': 'dr_s', 'username': 'dr_s', 'displayName': 'dr_s', 'karma': 2176}}, {'_id': 'uMXEBnqR3gvjQuxip', 'htmlBody': '<p>Question: would it be possible to use retroviruses to target cancer cells selectively to insert a gene that expresses a target protein, and <em>then</em> do monoclonal antibody treatment on that? Would the cancer accelerated metabolism make this any good?</p>\\n', 'postId': 'xgrvmaLFvkFr4hKjz', 'answer': False, 'postedAt': '2024-05-15T08:30:07.824Z', 'parentCommentId': None, 'user': {'_id': '75YZ666ipe3weoJaS', 'slug': 'dr_s', 'username': 'dr_s', 'displayName': 'dr_s', 'karma': 2176}}, {'_id': 'ZgpFtrzjRurP2LNQd', 'htmlBody': '<blockquote>\\n<p>Interestingly, many cancer \"neoantigens\" (for example, MAGEB1) are also expressed in meiotic cells in the testis. This is because they\\'re usually epigenetically suppressed in healthy tissues, but cancer cells have messed up epigenomes.</p>\\n</blockquote>\\n<p>That\\'s very true.</p>\\n<blockquote>\\n<p>I would disagree that synthesizing long polypeptides is easier than synthesizing long mRNAs</p>\\n</blockquote>\\n<p>That\\'s not what I said: I said it\\'s not harder and seems better. I\\'m aware of the chemistry involved and stand by that. Contrary to your implication, oligonucleotide synthesis also requires protecting groups.</p>\\n', 'postId': 'xgrvmaLFvkFr4hKjz', 'answer': False, 'postedAt': '2024-05-07T02:42:14.555Z', 'parentCommentId': 'AKK2GS3WMADvnCq7j', 'user': {'_id': 'xYpk75i7Hnn6wc5it', 'slug': 'bhauth', 'username': 'bhauth', 'displayName': 'bhauth', 'karma': 3134}}, {'_id': '4CLs2b5DRjufuM4nE', 'htmlBody': '<p>What\\'s the difference between a virus that preferentially infects cancer cells and a virus that kills infected cancer cells directly?</p><ul><li>Does \"preferentially\" mean that the virus also attacks non-cancer cells? Or does it mean that it just doesn\\'t hit cancer cells as hard?</li><li>\"A virus that kills infected cancer cells\": does this mean the virus kills cells infected with the virus mentioned in the first part of the question or is this just badly phrased?</li></ul>', 'postId': 'xgrvmaLFvkFr4hKjz', 'answer': False, 'postedAt': '2024-05-15T21:13:41.786Z', 'parentCommentId': 'hFbWBtTWYkAsJvLia', 'user': {'_id': 'pd9H4kcxgphQmxjbH', 'slug': 'diamondsolstice', 'username': 'TourmalineCupcakes', 'displayName': 'DiamondSolstice', 'karma': 8}}, {'_id': 'M6ATYYNTvWEaBwdja', 'htmlBody': \"<p>It doesn't have to be made on-demand for a specific person. It can be off-the-shelf precision medicine. Say there are 20 different antigens targeted. A company can produce those vaccines for 20 types, then the doctor can order the correct one(s) based on the tumor's genetic profile. This is how precision medicine is expected to be done. In some ways, it's already done in various areas, like blood types.</p>\", 'postId': 'xgrvmaLFvkFr4hKjz', 'answer': False, 'postedAt': '2024-05-15T06:51:15.377Z', 'parentCommentId': 'dpJAYgFzXWqQmiS8D', 'user': {'_id': 'cfPBkfTjTHFu6DKqF', 'slug': 'jrp', 'username': 'jrp', 'displayName': 'jrp', 'karma': 0}}, {'_id': 'MZYmRhca3aDzg3Ltt', 'htmlBody': '<p>Shifting the focus here a little. One might think of cancers as a disease that needs a cure/vacination or think of it as a symptom of aging and cellular process breakdown/wearout. If you agree with the later do you see the potential of these cancer vacines as a first step in the whole ending aging damage and thus a step on the path for extending healthspan (if not really lifespans)?</p>', 'postId': 'xgrvmaLFvkFr4hKjz', 'answer': False, 'postedAt': '2024-05-16T21:15:47.827Z', 'parentCommentId': None, 'user': {'_id': 'hWhWZzvjjZqYyAgEE', 'slug': 'jmh', 'username': 'jmh', 'displayName': 'jmh', 'karma': 1421}}]}}, 'extensions': {'cacheControl': {'version': 1, 'hints': [{'path': ['comments'], 'maxAge': 0}, {'path': ['comments', 'results'], 'maxAge': 0}, {'path': ['comments', 'results', 0, 'user'], 'maxAge': 0}, {'path': ['comments', 'results', 1, 'user'], 'maxAge': 0}, {'path': ['comments', 'results', 2, 'user'], 'maxAge': 0}, {'path': ['comments', 'results', 3, 'user'], 'maxAge': 0}, {'path': ['comments', 'results', 4, 'user'], 'maxAge': 0}, {'path': ['comments', 'results', 5, 'user'], 'maxAge': 0}, {'path': ['comments', 'results', 6, 'user'], 'maxAge': 0}, {'path': ['comments', 'results', 7, 'user'], 'maxAge': 0}, {'path': ['comments', 'results', 8, 'user'], 'maxAge': 0}, {'path': ['comments', 'results', 9, 'user'], 'maxAge': 0}, {'path': ['comments', 'results', 10, 'user'], 'maxAge': 0}, {'path': ['comments', 'results', 11, 'user'], 'maxAge': 0}, {'path': ['comments', 'results', 12, 'user'], 'maxAge': 0}, {'path': ['comments', 'results', 13, 'user'], 'maxAge': 0}, {'path': ['comments', 'results', 14, 'user'], 'maxAge': 0}, {'path': ['comments', 'results', 15, 'user'], 'maxAge': 0}, {'path': ['comments', 'results', 16, 'user'], 'maxAge': 0}, {'path': ['comments', 'results', 17, 'user'], 'maxAge': 0}, {'path': ['comments', 'results', 18, 'user'], 'maxAge': 0}]}}}\n"
     ]
    }
   ],
   "source": [
    "import requests\n",
    "import json\n",
    "\n",
    "url = \"https://www.lesswrong.com/graphql\"\n",
    "comments_query = \"\"\"\n",
    "query multiCommentQuery($input: MultiCommentInput) {\n",
    "  comments(input: $input) {\n",
    "    results {\n",
    "      _id\n",
    "      htmlBody\n",
    "      postId\n",
    "      answer\n",
    "      postedAt\n",
    "      parentCommentId\n",
    "      user {\n",
    "        _id\n",
    "        slug\n",
    "        username\n",
    "        displayName\n",
    "        karma\n",
    "      }\n",
    "    }\n",
    "  }\n",
    "}\n",
    "\"\"\"\n",
    "\n",
    "def get_comments(post_id):\n",
    "    payload = json.dumps({\n",
    "        \"operationName\": \"multiCommentQuery\",\n",
    "        \"variables\": {\n",
    "            \"input\": {\n",
    "                \"terms\": {\n",
    "                    \"view\": \"postCommentsTop\",\n",
    "                    \"limit\": 1000,\n",
    "                    \"postId\": post_id\n",
    "                },\n",
    "                \"enableCache\": False,\n",
    "                \"enableTotal\": True\n",
    "            }\n",
    "        },\n",
    "        \"query\": comments_query\n",
    "    })\n",
    "    headers = {\n",
    "        'accept': '*/*',\n",
    "        'accept-language': 'en-US,en;q=0.9',\n",
    "        'content-type': 'application/json',\n",
    "        'origin': 'https://www.lesswrong.com',\n",
    "        'user-agent': 'AE studio negelcted approaches Research'\n",
    "    }\n",
    "\n",
    "    response = requests.request(\"POST\", url, headers=headers, data=payload)\n",
    "    return response\n",
    "\n",
    "response = get_comments(\"xgrvmaLFvkFr4hKjz\")"
   ]
  },
  {
   "cell_type": "code",
   "execution_count": 59,
   "metadata": {},
   "outputs": [
    {
     "name": "stderr",
     "output_type": "stream",
     "text": [
      "100%|██████████| 40220/40220 [16:29:12<00:00,  1.48s/it]   \n"
     ]
    }
   ],
   "source": [
    "# call the get_comments function for each post_id and create a dataframe\n",
    "import time\n",
    "import tqdm\n",
    "comments = pd.DataFrame()\n",
    "for post_id in tqdm.tqdm(posts[\"_id\"].values):\n",
    "    response = get_comments(post_id)\n",
    "    comments = pd.concat([comments, pd.DataFrame(response.json()[\"data\"][\"comments\"][\"results\"])])\n",
    "    time.sleep(1)\n",
    "comments = comments.drop_duplicates(subset=['_id'])\n",
    "comments.to_parquet(\"data/comments.parquet\")\n"
   ]
  },
  {
   "cell_type": "code",
   "execution_count": null,
   "metadata": {},
   "outputs": [],
   "source": [
    "Index(['htmlBody', '_id', 'postId', 'parentCommentId', 'answer', 'postedAt',\n",
    "       'author_id', 'username'],\n",
    "      dtype='object')"
   ]
  },
  {
   "cell_type": "code",
   "execution_count": 75,
   "metadata": {},
   "outputs": [],
   "source": [
    "comments = comments[[\"htmlBody\", \"_id\", \"postId\", \"parentCommentId\", \"answer\", \"postedAt\", \"user\"]]\n",
    "user_df =  pd.json_normalize(comments['user'])\n",
    "user_df.rename(columns={\"_id\": \"author_id\"}, inplace=True)\n",
    "comments = comments.join(user_df).drop(columns=[\"user\"])\n",
    "comments.to_parquet(\"app_files/lw_comments.parquet\")"
   ]
  },
  {
   "cell_type": "markdown",
   "metadata": {},
   "source": [
    "# create user dataframe"
   ]
  },
  {
   "cell_type": "code",
   "execution_count": 80,
   "metadata": {},
   "outputs": [],
   "source": [
    "users_df = users_df.drop_duplicates(subset=[\"user_id\"])\n",
    "users_df.to_parquet(\"app_files/users.parquet\")"
   ]
  },
  {
   "cell_type": "markdown",
   "metadata": {},
   "source": [
    "# Running Similarity Score Embeddings"
   ]
  },
  {
   "cell_type": "code",
   "execution_count": 6,
   "metadata": {},
   "outputs": [
    {
     "data": {
      "text/plain": [
       "Index(['_id', 'title', 'authors', 'score', 'karma', 'body', 'postedAt', 'tags',\n",
       "       'commentCount', 'upvoteCount', 'url', 'pingback', 'refs'],\n",
       "      dtype='object')"
      ]
     },
     "execution_count": 6,
     "metadata": {},
     "output_type": "execute_result"
    }
   ],
   "source": [
    "posts = pd.read_parquet(\"data/posts.parquet\")\n",
    "posts.columns"
   ]
  },
  {
   "cell_type": "code",
   "execution_count": 11,
   "metadata": {},
   "outputs": [
    {
     "ename": "AttributeError",
     "evalue": "'Series' object has no attribute 'istype'",
     "output_type": "error",
     "traceback": [
      "\u001b[0;31m---------------------------------------------------------------------------\u001b[0m",
      "\u001b[0;31mAttributeError\u001b[0m                            Traceback (most recent call last)",
      "\u001b[0;32m/var/folders/hw/_y0_9w3j2nqb98jt_mvcd9h40000gn/T/ipykernel_86678/2217628859.py\u001b[0m in \u001b[0;36m?\u001b[0;34m()\u001b[0m\n\u001b[0;32m----> 1\u001b[0;31m \u001b[0mposts\u001b[0m\u001b[0;34m[\u001b[0m\u001b[0mposts\u001b[0m\u001b[0;34m[\u001b[0m\u001b[0;34m\"upvoteCount\"\u001b[0m\u001b[0;34m]\u001b[0m\u001b[0;34m.\u001b[0m\u001b[0mistype\u001b[0m\u001b[0;34m(\u001b[0m\u001b[0mint\u001b[0m\u001b[0;34m)\u001b[0m\u001b[0;34m]\u001b[0m\u001b[0;34m\u001b[0m\u001b[0;34m\u001b[0m\u001b[0m\n\u001b[0m",
      "\u001b[0;32m/opt/anaconda3/envs/neglected-meta-10/lib/python3.10/site-packages/pandas/core/generic.py\u001b[0m in \u001b[0;36m?\u001b[0;34m(self, name)\u001b[0m\n\u001b[1;32m   6295\u001b[0m             \u001b[0;32mand\u001b[0m \u001b[0mname\u001b[0m \u001b[0;32mnot\u001b[0m \u001b[0;32min\u001b[0m \u001b[0mself\u001b[0m\u001b[0;34m.\u001b[0m\u001b[0m_accessors\u001b[0m\u001b[0;34m\u001b[0m\u001b[0;34m\u001b[0m\u001b[0m\n\u001b[1;32m   6296\u001b[0m             \u001b[0;32mand\u001b[0m \u001b[0mself\u001b[0m\u001b[0;34m.\u001b[0m\u001b[0m_info_axis\u001b[0m\u001b[0;34m.\u001b[0m\u001b[0m_can_hold_identifiers_and_holds_name\u001b[0m\u001b[0;34m(\u001b[0m\u001b[0mname\u001b[0m\u001b[0;34m)\u001b[0m\u001b[0;34m\u001b[0m\u001b[0;34m\u001b[0m\u001b[0m\n\u001b[1;32m   6297\u001b[0m         ):\n\u001b[1;32m   6298\u001b[0m             \u001b[0;32mreturn\u001b[0m \u001b[0mself\u001b[0m\u001b[0;34m[\u001b[0m\u001b[0mname\u001b[0m\u001b[0;34m]\u001b[0m\u001b[0;34m\u001b[0m\u001b[0;34m\u001b[0m\u001b[0m\n\u001b[0;32m-> 6299\u001b[0;31m         \u001b[0;32mreturn\u001b[0m \u001b[0mobject\u001b[0m\u001b[0;34m.\u001b[0m\u001b[0m__getattribute__\u001b[0m\u001b[0;34m(\u001b[0m\u001b[0mself\u001b[0m\u001b[0;34m,\u001b[0m \u001b[0mname\u001b[0m\u001b[0;34m)\u001b[0m\u001b[0;34m\u001b[0m\u001b[0;34m\u001b[0m\u001b[0m\n\u001b[0m",
      "\u001b[0;31mAttributeError\u001b[0m: 'Series' object has no attribute 'istype'"
     ]
    }
   ],
   "source": [
    "posts[posts[\"upvoteCount\"].istype(int)]"
   ]
  },
  {
   "cell_type": "code",
   "execution_count": 3,
   "metadata": {},
   "outputs": [
    {
     "name": "stderr",
     "output_type": "stream",
     "text": [
      "/opt/anaconda3/envs/neglected-meta-10/lib/python3.10/site-packages/huggingface_hub/file_download.py:1132: FutureWarning: `resume_download` is deprecated and will be removed in version 1.0.0. Downloads always resume when possible. If you want to force a new download, use `force_download=True`.\n",
      "  warnings.warn(\n"
     ]
    },
    {
     "ename": "NameError",
     "evalue": "name 'torch' is not defined",
     "output_type": "error",
     "traceback": [
      "\u001b[0;31m---------------------------------------------------------------------------\u001b[0m",
      "\u001b[0;31mNameError\u001b[0m                                 Traceback (most recent call last)",
      "Cell \u001b[0;32mIn[3], line 8\u001b[0m\n\u001b[1;32m      6\u001b[0m texts \u001b[38;5;241m=\u001b[39m posts[\u001b[38;5;124m\"\u001b[39m\u001b[38;5;124mfull_text\u001b[39m\u001b[38;5;124m\"\u001b[39m]\u001b[38;5;241m.\u001b[39mto_list()\n\u001b[1;32m      7\u001b[0m style_embeddings \u001b[38;5;241m=\u001b[39m model\u001b[38;5;241m.\u001b[39mencode(texts)\n\u001b[0;32m----> 8\u001b[0m \u001b[43mtorch\u001b[49m\u001b[38;5;241m.\u001b[39mdump(style_embeddings, \u001b[38;5;124m\"\u001b[39m\u001b[38;5;124mapp_files/style_embeddings.pt\u001b[39m\u001b[38;5;124m\"\u001b[39m)\n\u001b[1;32m      9\u001b[0m \u001b[38;5;66;03m# each article has a style embedding\u001b[39;00m\n\u001b[1;32m     10\u001b[0m \u001b[38;5;66;03m# posts[\"style_embedding\"] = style_embeddings.tolist()\u001b[39;00m\n",
      "\u001b[0;31mNameError\u001b[0m: name 'torch' is not defined"
     ]
    }
   ],
   "source": [
    "from sentence_transformers import SentenceTransformer, util\n",
    "model = SentenceTransformer('AnnaWegmann/Style-Embedding')\n",
    "posts.fillna(\"\", inplace=True)\n",
    "# posts[\"_id\"] = posts.index\n",
    "posts[\"full_text\"] = posts[\"title\"] + \"\\n\" + posts[\"body\"]\n",
    "texts = posts[\"full_text\"].to_list()\n",
    "style_embeddings = model.encode(texts)\n",
    "import torch\n",
    "torch.save(style_embeddings, \"app_files/style_embeddings.pt\")\n",
    "# each article has a style embedding\n",
    "# posts[\"style_embedding\"] = style_embeddings.tolist()"
   ]
  },
  {
   "cell_type": "code",
   "execution_count": null,
   "metadata": {},
   "outputs": [],
   "source": [
    "def get_average_author(df, author):\n",
    "    average_embedding = df[df[\"author\"]==author][\"style_embedding\"].mean()\n",
    "    return average_embedding\n",
    "\n",
    "def get_cosin_similarity(df, author1, author2):\n",
    "    author_embedding_1 = get_average_author(df, author1)\n",
    "    author_embedding_2 = get_average_author(df, author2)\n",
    "    cos_sim = util.pytorch_cos_sim(author_embedding_1, author_embedding_2)\n",
    "    return cos_sim\n",
    "\n",
    "# set based approach\n",
    "def cosine_similarity(set_a, set_b, df)->float:\n",
    "    ..."
   ]
  },
  {
   "cell_type": "code",
   "execution_count": 35,
   "metadata": {},
   "outputs": [
    {
     "data": {
      "text/plain": [
       "0               [XFrequentist]\n",
       "1       [LearnFromObservation]\n",
       "2                  [Mestroyer]\n",
       "3             [Gunnar_Zarncke]\n",
       "4                 [DataPacRat]\n",
       "                 ...          \n",
       "4994                     [Zvi]\n",
       "4995                      [jt]\n",
       "4996       [Allison Duettmann]\n",
       "4997           [Arturo Macias]\n",
       "4998               [DragonGod]\n",
       "Name: authors, Length: 40220, dtype: object"
      ]
     },
     "execution_count": 35,
     "metadata": {},
     "output_type": "execute_result"
    }
   ],
   "source": [
    "posts[\"authors\"]"
   ]
  },
  {
   "cell_type": "markdown",
   "metadata": {},
   "source": []
  }
 ],
 "metadata": {
  "kernelspec": {
   "display_name": "neglected-meta-10",
   "language": "python",
   "name": "python3"
  },
  "language_info": {
   "codemirror_mode": {
    "name": "ipython",
    "version": 3
   },
   "file_extension": ".py",
   "mimetype": "text/x-python",
   "name": "python",
   "nbconvert_exporter": "python",
   "pygments_lexer": "ipython3",
   "version": "3.10.14"
  }
 },
 "nbformat": 4,
 "nbformat_minor": 2
}
