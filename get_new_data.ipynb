{
 "cells": [
  {
   "cell_type": "code",
   "execution_count": 8,
   "metadata": {},
   "outputs": [],
   "source": [
    "import requests\n",
    "import urllib.request\n",
    "from bs4 import BeautifulSoup\n",
    "import pandas as pd\n",
    "import os\n",
    "import re\n",
    "import tqdm\n",
    "import asyncio\n",
    "import json"
   ]
  },
  {
   "cell_type": "code",
   "execution_count": 97,
   "metadata": {},
   "outputs": [],
   "source": [
    "old_posts = pd.read_parquet(\"app_files/lw_data.parquet\")"
   ]
  },
  {
   "cell_type": "code",
   "execution_count": 98,
   "metadata": {},
   "outputs": [
    {
     "data": {
      "text/plain": [
       "Index(['_id', 'Unnamed: 0', 'title', 'authors', 'score', 'karma', 'body',\n",
       "       'postedAt', 'tags', 'commentCount', 'upvoteCount', 'url',\n",
       "       'contains_wanted', 'skip_authors', 'year', 'month', 'quarter',\n",
       "       'alignment_forum', 'ids', 'links', 'references', 'pingback_posts'],\n",
       "      dtype='object')"
      ]
     },
     "execution_count": 98,
     "metadata": {},
     "output_type": "execute_result"
    }
   ],
   "source": [
    "old_posts.columns"
   ]
  },
  {
   "cell_type": "code",
   "execution_count": 99,
   "metadata": {},
   "outputs": [],
   "source": [
    "folder_path = \"data/posts/\"\n",
    "posts = pd.DataFrame()\n",
    "for file in os.listdir(folder_path):\n",
    "    with open(folder_path + file) as f:\n",
    "        data = json.load(f)\n",
    "        posts = pd.concat([posts, pd.DataFrame(data)])\n",
    "posts = posts.drop_duplicates(subset=['_id'])"
   ]
  },
  {
   "cell_type": "code",
   "execution_count": 100,
   "metadata": {},
   "outputs": [],
   "source": [
    "url = \"https://www.lesswrong.com/graphql\"\n",
    "default_headers = {\n",
    "  'accept': '*/*',\n",
    "  'accept-language': 'en-US,en;q=0.9',\n",
    "  'content-type': 'application/json',\n",
    "  'user-agent': 'AE Studio-Neglected Means Researcher tristan.tran@ae.studio',\n",
    "}"
   ]
  },
  {
   "cell_type": "code",
   "execution_count": 112,
   "metadata": {},
   "outputs": [],
   "source": [
    "def get_posts(start_date:str,\n",
    "              end_date: str,\n",
    "              offset: int):\n",
    "    \"\"\"\n",
    "    Get posts from LessWrong API\n",
    "    :param start_date: str, start date in format'YYYY-MM-DD'\n",
    "    :param end_date: str, end date in format 'YYYY-MM-DD'\n",
    "    :param offset: int, offset for pagination\n",
    "    \"\"\"\n",
    "    post_query = \"\"\"\n",
    "{\n",
    "      posts(input: {\n",
    "        terms: {\n",
    "          limit:100\n",
    "          view:\"timeframe\"\n",
    "          sortedBy:\"magic\"\n",
    "          after:\"%sT07:00:00.000Z\"\n",
    "          before:\"%sT06:59:59.999Z\"\n",
    "          offset: %s\n",
    "          meta: null  # this seems to get both meta and non-meta posts\n",
    "        }\n",
    "      }\n",
    "      ) {\n",
    "        results {\n",
    "          _id\n",
    "          title\n",
    "          slug\n",
    "          pageUrl\n",
    "          postedAt\n",
    "          baseScore\n",
    "          voteCount\n",
    "          score\n",
    "          commentCount\n",
    "          meta\n",
    "          question\n",
    "          url\n",
    "          author\n",
    "          pingbacks\n",
    "          coauthors {\n",
    "            username\n",
    "            _id\n",
    "            slug\n",
    "          }\n",
    "          user {\n",
    "            username\n",
    "            _id\n",
    "            slug\n",
    "          }\n",
    "        }\n",
    "      }\n",
    "    }\n",
    "    \"\"\"%(start_date, end_date, offset)\n",
    "    response = requests.post(url, headers=default_headers, json={'query': post_query})\n",
    "    response.raise_for_status()\n",
    "    return response.json()\n",
    "def get_all_posts(start_date, end_date):\n",
    "    offset = 0\n",
    "    results = []\n",
    "    while True:\n",
    "        response = get_posts(start_date, end_date, offset)\n",
    "        if not response['data']['posts']['results']:\n",
    "            break\n",
    "        results.extend(response['data']['posts']['results'])\n",
    "        offset += 100\n",
    "    return results"
   ]
  },
  {
   "cell_type": "code",
   "execution_count": 113,
   "metadata": {},
   "outputs": [
    {
     "data": {
      "text/plain": [
       "9"
      ]
     },
     "execution_count": 113,
     "metadata": {},
     "output_type": "execute_result"
    }
   ],
   "source": [
    "r = get_posts(\"2021-01-01\", \"2021-01-02\", 0)\n",
    "len(r[\"data\"][\"posts\"][\"results\"])"
   ]
  },
  {
   "cell_type": "code",
   "execution_count": 114,
   "metadata": {},
   "outputs": [
    {
     "data": {
      "text/plain": [
       "{'data': {'posts': {'results': [{'_id': '6kAtxZyiTdY34JWak',\n",
       "     'title': 'Is Free Will A Myth?',\n",
       "     'slug': 'is-free-will-a-myth',\n",
       "     'pageUrl': 'https://www.lesswrong.com/posts/6kAtxZyiTdY34JWak/is-free-will-a-myth',\n",
       "     'postedAt': '2021-01-01T20:56:50.221Z',\n",
       "     'baseScore': 0,\n",
       "     'voteCount': 0,\n",
       "     'score': 0,\n",
       "     'commentCount': 4,\n",
       "     'meta': False,\n",
       "     'question': False,\n",
       "     'url': None,\n",
       "     'author': None,\n",
       "     'pingbacks': {},\n",
       "     'coauthors': [],\n",
       "     'user': {'username': 'Precious Oluwatobi Emmanuel',\n",
       "      '_id': 'otR3PZ9KMsM2JyCC5',\n",
       "      'slug': 'precious-oluwatobi-emmanuel'}}]}},\n",
       " 'extensions': {'cacheControl': {'version': 1,\n",
       "   'hints': [{'path': ['posts'], 'maxAge': 0},\n",
       "    {'path': ['posts', 'results'], 'maxAge': 0},\n",
       "    {'path': ['posts', 'results', 0, 'coauthors'], 'maxAge': 0},\n",
       "    {'path': ['posts', 'results', 0, 'user'], 'maxAge': 0}]}}}"
      ]
     },
     "execution_count": 114,
     "metadata": {},
     "output_type": "execute_result"
    }
   ],
   "source": [
    "get_posts(\"2021-01-01\", \"2021-01-02\", 8)"
   ]
  },
  {
   "cell_type": "code",
   "execution_count": 117,
   "metadata": {},
   "outputs": [
    {
     "data": {
      "text/plain": [
       "[{'_id': 'rTJrqtDLxAPxiW3sk',\n",
       "  'title': 'My first year in AI alignment',\n",
       "  'slug': 'my-first-year-in-ai-alignment',\n",
       "  'pageUrl': 'https://www.lesswrong.com/posts/rTJrqtDLxAPxiW3sk/my-first-year-in-ai-alignment',\n",
       "  'postedAt': '2023-01-02T01:28:03.470Z',\n",
       "  'baseScore': 61,\n",
       "  'voteCount': 33,\n",
       "  'score': 0.0010619011009112,\n",
       "  'commentCount': 10,\n",
       "  'meta': False,\n",
       "  'question': False,\n",
       "  'url': None,\n",
       "  'author': None,\n",
       "  'pingbacks': {'Posts': ['PRMJCbBhsGgu5A6Ty']},\n",
       "  'coauthors': [],\n",
       "  'user': {'username': 'Alex_Altair',\n",
       "   '_id': '5wu9jG4pm9q6xjZ9R',\n",
       "   'slug': 'alex_altair'}},\n",
       " {'_id': 'dTWevKRiMM4ptcjjg',\n",
       "  'title': 'Would it be good or bad for the US military to get involved in AI risk?',\n",
       "  'slug': 'would-it-be-good-or-bad-for-the-us-military-to-get-involved',\n",
       "  'pageUrl': 'https://www.lesswrong.com/posts/dTWevKRiMM4ptcjjg/would-it-be-good-or-bad-for-the-us-military-to-get-involved',\n",
       "  'postedAt': '2023-01-01T19:02:30.892Z',\n",
       "  'baseScore': 50,\n",
       "  'voteCount': 23,\n",
       "  'score': 0.000909739057533443,\n",
       "  'commentCount': 12,\n",
       "  'meta': False,\n",
       "  'question': True,\n",
       "  'url': None,\n",
       "  'author': None,\n",
       "  'pingbacks': {},\n",
       "  'coauthors': [],\n",
       "  'user': {'username': 'grant-demaree',\n",
       "   '_id': 'QdiZckQT3JMQwdajo',\n",
       "   'slug': 'grant-demaree'}},\n",
       " {'_id': 'E9EevrzBcDMap6dbs',\n",
       "  'title': 'The Thingness of Things\\n',\n",
       "  'slug': 'the-thingness-of-things',\n",
       "  'pageUrl': 'https://www.lesswrong.com/posts/E9EevrzBcDMap6dbs/the-thingness-of-things',\n",
       "  'postedAt': '2023-01-01T22:19:08.026Z',\n",
       "  'baseScore': 46,\n",
       "  'voteCount': 19,\n",
       "  'score': 0.0008508102037012577,\n",
       "  'commentCount': 35,\n",
       "  'meta': False,\n",
       "  'question': False,\n",
       "  'url': None,\n",
       "  'author': None,\n",
       "  'pingbacks': {},\n",
       "  'coauthors': [],\n",
       "  'user': {'username': 'TsviBT',\n",
       "   '_id': 'LtHeYhWmaud6YNA3m',\n",
       "   'slug': 'tsvibt'}},\n",
       " {'_id': 'ihwD8H8bCF8ZJ6zjz',\n",
       "  'title': 'Sail Over Mountains of ICE...',\n",
       "  'slug': 'sail-over-mountains-of-ice',\n",
       "  'pageUrl': 'https://www.lesswrong.com/posts/ihwD8H8bCF8ZJ6zjz/sail-over-mountains-of-ice',\n",
       "  'postedAt': '2023-01-02T00:27:31.340Z',\n",
       "  'baseScore': 26,\n",
       "  'voteCount': 17,\n",
       "  'score': 0.0005412428290583193,\n",
       "  'commentCount': 51,\n",
       "  'meta': False,\n",
       "  'question': False,\n",
       "  'url': None,\n",
       "  'author': None,\n",
       "  'pingbacks': {},\n",
       "  'coauthors': [],\n",
       "  'user': {'username': 'AnthonyRepetto',\n",
       "   '_id': 'tQvXqWiE7zSa8bxt9',\n",
       "   'slug': 'anthonyrepetto'}},\n",
       " {'_id': 'QsZ3ycfRYs2ps5sNA',\n",
       "  'title': 'A Löbian argument pattern for implicit reasoning in natural language: Löbian party invitations',\n",
       "  'slug': 'a-loebian-argument-pattern-for-implicit-reasoning-in-natural',\n",
       "  'pageUrl': 'https://www.lesswrong.com/posts/QsZ3ycfRYs2ps5sNA/a-loebian-argument-pattern-for-implicit-reasoning-in-natural',\n",
       "  'postedAt': '2023-01-01T17:39:59.643Z',\n",
       "  'baseScore': 23,\n",
       "  'voteCount': 13,\n",
       "  'score': 0.000501197122503072,\n",
       "  'commentCount': 8,\n",
       "  'meta': False,\n",
       "  'question': False,\n",
       "  'url': None,\n",
       "  'author': None,\n",
       "  'pingbacks': {'Posts': ['AkGvmJ6WE5sXjuwnC', 'rrpnEDpLPxsmmsLzs']},\n",
       "  'coauthors': [],\n",
       "  'user': {'username': 'Andrew_Critch',\n",
       "   '_id': 'f7Mag7bDZKv59Bsaw',\n",
       "   'slug': 'andrew_critch'}},\n",
       " {'_id': 'iJy335ve4NuzzCyBF',\n",
       "  'title': \"Better New Year's Goals through Aligning the Elephant and the Rider\",\n",
       "  'slug': 'better-new-year-s-goals-through-aligning-the-elephant-and',\n",
       "  'pageUrl': 'https://www.lesswrong.com/posts/iJy335ve4NuzzCyBF/better-new-year-s-goals-through-aligning-the-elephant-and',\n",
       "  'postedAt': '2023-01-01T17:54:48.386Z',\n",
       "  'baseScore': 20,\n",
       "  'voteCount': 11,\n",
       "  'score': 0.00045161580783315003,\n",
       "  'commentCount': 0,\n",
       "  'meta': False,\n",
       "  'question': False,\n",
       "  'url': 'https://guildoftherose.org/articles/aligning-the-elephant-and-rider',\n",
       "  'author': None,\n",
       "  'pingbacks': {'Posts': ['du395YvCnQXBPSJax',\n",
       "    'EFQ3F6kmt4WHXRqik',\n",
       "    'RWo4LwFzpHNQCTcYt']},\n",
       "  'coauthors': [],\n",
       "  'user': {'username': 'moridinamael',\n",
       "   '_id': 'sWA9eDCM9AgFaZho8',\n",
       "   'slug': 'moridinamael'}},\n",
       " {'_id': 'hjL4KnPKtoa3JGtPy',\n",
       "  'title': \"Summary of 80k's AI problem profile\",\n",
       "  'slug': 'summary-of-80k-s-ai-problem-profile',\n",
       "  'pageUrl': 'https://www.lesswrong.com/posts/hjL4KnPKtoa3JGtPy/summary-of-80k-s-ai-problem-profile',\n",
       "  'postedAt': '2023-01-01T07:30:22.177Z',\n",
       "  'baseScore': 7,\n",
       "  'voteCount': 4,\n",
       "  'score': 0.0002621956809889525,\n",
       "  'commentCount': 0,\n",
       "  'meta': False,\n",
       "  'question': False,\n",
       "  'url': 'https://forum.effectivealtruism.org/posts/btFBFdYEn2PbuwHwt/summary-of-80k-s-ai-problem-profile',\n",
       "  'author': None,\n",
       "  'pingbacks': {'Posts': ['AfH2oPHCApdKicM4m', 'y2CMx3DAJ86HGrjue']},\n",
       "  'coauthors': [],\n",
       "  'user': {'username': 'jskatt',\n",
       "   '_id': 'h3ZLNJ4wB9ocmRpRB',\n",
       "   'slug': 'jakubk'}},\n",
       " {'_id': 'fcZjso8QEqhQfZHhT',\n",
       "  'title': 'How can total world index fund growth outpace money supply growth over the long term?',\n",
       "  'slug': 'how-can-total-world-index-fund-growth-outpace-money-supply',\n",
       "  'pageUrl': 'https://www.lesswrong.com/posts/fcZjso8QEqhQfZHhT/how-can-total-world-index-fund-growth-outpace-money-supply',\n",
       "  'postedAt': '2023-01-02T05:33:40.620Z',\n",
       "  'baseScore': 4,\n",
       "  'voteCount': 2,\n",
       "  'score': 0.00021706978441216052,\n",
       "  'commentCount': 7,\n",
       "  'meta': False,\n",
       "  'question': True,\n",
       "  'url': None,\n",
       "  'author': None,\n",
       "  'pingbacks': {},\n",
       "  'coauthors': [],\n",
       "  'user': {'username': 'pando', '_id': 'vZWeoogBR3JSFbBMg', 'slug': 'pando'}},\n",
       " {'_id': '4QgHqN2fHvqAwwSRg',\n",
       "  'title': 'Thoughts On Expanding the AI Safety Community: Benefits and Challenges of Outreach to Non-Technical Professionals',\n",
       "  'slug': 'thoughts-on-expanding-the-ai-safety-community-benefits-and',\n",
       "  'pageUrl': 'https://www.lesswrong.com/posts/4QgHqN2fHvqAwwSRg/thoughts-on-expanding-the-ai-safety-community-benefits-and',\n",
       "  'postedAt': '2023-01-01T19:21:33.010Z',\n",
       "  'baseScore': 4,\n",
       "  'voteCount': 6,\n",
       "  'score': 0.00021152447152417153,\n",
       "  'commentCount': 4,\n",
       "  'meta': False,\n",
       "  'question': False,\n",
       "  'url': None,\n",
       "  'author': None,\n",
       "  'pingbacks': {},\n",
       "  'coauthors': [],\n",
       "  'user': {'username': 'yashvardhan-sharma',\n",
       "   '_id': 'Jm9PPChwTMMcyhkzs',\n",
       "   'slug': 'yashvardhan-sharma'}},\n",
       " {'_id': 'MraxHEZSprEL9j28y',\n",
       "  'title': 'woke offline, anti-woke online',\n",
       "  'slug': 'woke-offline-anti-woke-online',\n",
       "  'pageUrl': 'https://www.lesswrong.com/posts/MraxHEZSprEL9j28y/woke-offline-anti-woke-online',\n",
       "  'postedAt': '2023-01-01T08:24:39.748Z',\n",
       "  'baseScore': 13,\n",
       "  'voteCount': 15,\n",
       "  'score': 0.00020271138055250049,\n",
       "  'commentCount': 12,\n",
       "  'meta': False,\n",
       "  'question': False,\n",
       "  'url': None,\n",
       "  'author': None,\n",
       "  'pingbacks': {},\n",
       "  'coauthors': [],\n",
       "  'user': {'username': 'yair-halberstadt',\n",
       "   '_id': 'nLQrcb2wbHaSvXJwq',\n",
       "   'slug': 'yair-halberstadt'}},\n",
       " {'_id': 'pQFpkwiQNjQzjGzCn',\n",
       "  'title': 'Alignment, Anger, and Love: Preparing for the Emergence of Superintelligent AI',\n",
       "  'slug': 'alignment-anger-and-love-preparing-for-the-emergence-of',\n",
       "  'pageUrl': 'https://www.lesswrong.com/posts/pQFpkwiQNjQzjGzCn/alignment-anger-and-love-preparing-for-the-emergence-of',\n",
       "  'postedAt': '2023-01-02T06:16:53.686Z',\n",
       "  'baseScore': 2,\n",
       "  'voteCount': 2,\n",
       "  'score': 0.00018017322872765362,\n",
       "  'commentCount': 3,\n",
       "  'meta': False,\n",
       "  'question': False,\n",
       "  'url': None,\n",
       "  'author': None,\n",
       "  'pingbacks': {},\n",
       "  'coauthors': [],\n",
       "  'user': {'username': 'tavurth',\n",
       "   '_id': 'CNaquBWz2KtfAyYLm',\n",
       "   'slug': 'tavurth'}},\n",
       " {'_id': 'MzwubmRjyXY9F9Myz',\n",
       "  'title': 'Fun math facts about 2023',\n",
       "  'slug': 'fun-math-facts-about-2023',\n",
       "  'pageUrl': 'https://www.lesswrong.com/posts/MzwubmRjyXY9F9Myz/fun-math-facts-about-2023',\n",
       "  'postedAt': '2023-01-01T23:38:22.165Z',\n",
       "  'baseScore': 9,\n",
       "  'voteCount': 4,\n",
       "  'score': 0.00014258100418373942,\n",
       "  'commentCount': 6,\n",
       "  'meta': False,\n",
       "  'question': False,\n",
       "  'url': None,\n",
       "  'author': None,\n",
       "  'pingbacks': {},\n",
       "  'coauthors': [],\n",
       "  'user': {'username': 'adam-scherlis',\n",
       "   '_id': 'vkJnzkZKmPszTLfKc',\n",
       "   'slug': 'adam-scherlis'}}]"
      ]
     },
     "execution_count": 117,
     "metadata": {},
     "output_type": "execute_result"
    }
   ],
   "source": [
    "# loop that gets posts for a date range until the offset is empty\n",
    "start_date = \"2023-01-01\"\n",
    "end_date = \"2023-01-02\"\n",
    "get_all_posts(start_date, end_date)\n",
    "# this should get all posts and pingbacks"
   ]
  },
  {
   "cell_type": "code",
   "execution_count": 70,
   "metadata": {},
   "outputs": [],
   "source": [
    "# we can use this to add pingbacks to the posts. if they don't have them\n",
    "from requests.exceptions import HTTPError\n",
    "def get_all_pingback(post_id):\n",
    "    pingback_query =\"\"\"{\n",
    "    posts(input: {terms: {view: \"pingbackPosts\", postId: \"%s\", limit: 15, offset: 0}}) {\n",
    "        results {\n",
    "        _id\n",
    "        extendedScore\n",
    "        baseScore\n",
    "        score\n",
    "        voteCount\n",
    "        userId\n",
    "        reviewVotesHighKarma\n",
    "        commentCount\n",
    "        htmlBody\n",
    "        }\n",
    "    }\n",
    "    }\"\"\"%post_id\n",
    "    response = requests.post(url, headers=default_headers, json={'query': pingback_query})\n",
    "    response.raise_for_status()\n",
    "    return response.json()[\"data\"][\"posts\"][\"results\"]\n",
    "\n",
    "def get_pingback_ids(post_id):\n",
    "    try:\n",
    "        pingbacks = get_all_pingback(post_id)\n",
    "        return [pingback[\"_id\"] for pingback in pingbacks]\n",
    "    except HTTPError as e:\n",
    "        print(post_id, \"returns http error\")\n",
    "        print(e)\n",
    "        return []\n",
    "    except:\n",
    "        print(post_id, \"returns unknown error\")\n",
    "        return []\n",
    "def get_refs_from_pingback(df):\n",
    "    ids, pingbacks = zip(*df[[\"_id\",\"pingback\"]].values)\n",
    "    refs = {id: [] for id in ids}\n",
    "    for id, pingback in zip(ids, pingbacks):\n",
    "        for pb in pingback:\n",
    "            if pb in refs:\n",
    "                refs[pb].append(id)\n",
    "\n",
    "    df[\"refs\"] = df[\"_id\"].apply(lambda x: refs[x])\n",
    "    return df"
   ]
  },
  {
   "cell_type": "code",
   "execution_count": 89,
   "metadata": {},
   "outputs": [],
   "source": [
    "posts.to_parquet(\"data/posts.parquet\")"
   ]
  },
  {
   "cell_type": "code",
   "execution_count": 76,
   "metadata": {},
   "outputs": [],
   "source": [
    "comments = pd.read_parquet(\"app_files/lw_comments.parquet\")"
   ]
  },
  {
   "cell_type": "code",
   "execution_count": 77,
   "metadata": {},
   "outputs": [
    {
     "data": {
      "text/plain": [
       "Index(['htmlBody', '_id', 'postId', 'parentCommentId', 'answer', 'postedAt',\n",
       "       'author_id', 'username'],\n",
       "      dtype='object')"
      ]
     },
     "execution_count": 77,
     "metadata": {},
     "output_type": "execute_result"
    }
   ],
   "source": [
    "comments.columns"
   ]
  },
  {
   "cell_type": "code",
   "execution_count": 5,
   "metadata": {},
   "outputs": [
    {
     "data": {
      "text/plain": [
       "Index(['_id', 'user', 'htmlBody', 'postId', 'parentCommentId', 'baseScore',\n",
       "       'answer', 'postedAt'],\n",
       "      dtype='object')"
      ]
     },
     "execution_count": 5,
     "metadata": {},
     "output_type": "execute_result"
    }
   ],
   "source": [
    "folder_path = \"data/comments/\"\n",
    "comments = pd.DataFrame()\n",
    "for file in os.listdir(folder_path):\n",
    "    with open(folder_path + file) as f:\n",
    "        data = json.load(f)\n",
    "        comments = pd.concat([comments, pd.DataFrame(data)])\n",
    "comments = comments.drop_duplicates(subset=['_id'])\n",
    "comments.columns"
   ]
  },
  {
   "cell_type": "code",
   "execution_count": 6,
   "metadata": {},
   "outputs": [],
   "source": [
    "comments.to_parquet(\"data/comments.parquet\")"
   ]
  },
  {
   "cell_type": "code",
   "execution_count": 13,
   "metadata": {},
   "outputs": [],
   "source": [
    "posts = pd.read_parquet(\"data/posts.parquet\")"
   ]
  },
  {
   "cell_type": "code",
   "execution_count": null,
   "metadata": {},
   "outputs": [],
   "source": [
    "from sentence_transformers import SentenceTransformer, util\n",
    "model = SentenceTransformer('AnnaWegmann/Style-Embedding')\n",
    "posts.fillna(\"\", inplace=True)\n",
    "# posts[\"_id\"] = posts.index\n",
    "posts[\"full_text\"] = posts[\"title\"] + \"\\n\" + posts[\"body\"]\n",
    "texts = posts[\"full_text\"].to_list()\n",
    "style_embeddings = model.encode(texts)"
   ]
  },
  {
   "cell_type": "code",
   "execution_count": 15,
   "metadata": {},
   "outputs": [],
   "source": [
    "posts[\"style_embedding\"] = style_embeddings.tolist()\n",
    "posts.to_parquet(\"data/posts.parquet\")"
   ]
  },
  {
   "cell_type": "markdown",
   "metadata": {},
   "source": []
  }
 ],
 "metadata": {
  "kernelspec": {
   "display_name": "neglected-meta-10",
   "language": "python",
   "name": "python3"
  },
  "language_info": {
   "codemirror_mode": {
    "name": "ipython",
    "version": 3
   },
   "file_extension": ".py",
   "mimetype": "text/x-python",
   "name": "python",
   "nbconvert_exporter": "python",
   "pygments_lexer": "ipython3",
   "version": "3.10.14"
  }
 },
 "nbformat": 4,
 "nbformat_minor": 2
}
